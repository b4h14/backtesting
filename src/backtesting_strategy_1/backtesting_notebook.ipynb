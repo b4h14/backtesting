{
 "cells": [
  {
   "cell_type": "code",
   "execution_count": 3,
   "metadata": {},
   "outputs": [],
   "source": [
    "import datetime\n",
    "import numpy as np\n",
    "import pandas as pd\n",
    "import vectorbt as vbt\n",
    "import plotly.graph_objects as go"
   ]
  },
  {
   "cell_type": "markdown",
   "metadata": {},
   "source": [
    "# Este notebook demonstra o total de profit da estratégia usada\n",
    "\n"
   ]
  },
  {
   "cell_type": "code",
   "execution_count": 4,
   "metadata": {},
   "outputs": [],
   "source": [
    "end_time = datetime.datetime.now()\n",
    "\n",
    "start_time = end_time - datetime.timedelta(days=365)"
   ]
  },
  {
   "cell_type": "code",
   "execution_count": 5,
   "metadata": {},
   "outputs": [],
   "source": [
    "list_stock_enterprises = [\n",
    "    'RRRP3.SA', \n",
    "    'CSAN3.SA', \n",
    "    'DMMO3.SA', \n",
    "    'ENAT3.SA', \n",
    "    'PRIO3.SA',\n",
    "    'PETR3.SA',\n",
    "    'RECV3.SA',\n",
    "    'RPMG3.SA',\n",
    "    'UGPA3.SA',\n",
    "    'VBBR3.SA'\n",
    "    ]"
   ]
  },
  {
   "cell_type": "code",
   "execution_count": 7,
   "metadata": {},
   "outputs": [
    {
     "name": "stderr",
     "output_type": "stream",
     "text": [
      "c:\\Users\\joaop\\Anaconda3\\envs\\vbt\\lib\\site-packages\\vectorbt\\data\\base.py:692: FutureWarning: In a future version, `df.iloc[:, i] = newvals` will attempt to set the values inplace instead of always setting a new array. To retain the old behavior, use either `df[df.columns[i]] = newvals` or, if columns are non-unique, `df.isetitem(i, newvals)`\n",
      "  new_data[c].loc[:, s] = col_data\n",
      "c:\\Users\\joaop\\Anaconda3\\envs\\vbt\\lib\\site-packages\\vectorbt\\data\\base.py:692: FutureWarning: In a future version, `df.iloc[:, i] = newvals` will attempt to set the values inplace instead of always setting a new array. To retain the old behavior, use either `df[df.columns[i]] = newvals` or, if columns are non-unique, `df.isetitem(i, newvals)`\n",
      "  new_data[c].loc[:, s] = col_data\n",
      "c:\\Users\\joaop\\Anaconda3\\envs\\vbt\\lib\\site-packages\\vectorbt\\data\\base.py:692: FutureWarning: In a future version, `df.iloc[:, i] = newvals` will attempt to set the values inplace instead of always setting a new array. To retain the old behavior, use either `df[df.columns[i]] = newvals` or, if columns are non-unique, `df.isetitem(i, newvals)`\n",
      "  new_data[c].loc[:, s] = col_data\n",
      "c:\\Users\\joaop\\Anaconda3\\envs\\vbt\\lib\\site-packages\\vectorbt\\data\\base.py:692: FutureWarning: In a future version, `df.iloc[:, i] = newvals` will attempt to set the values inplace instead of always setting a new array. To retain the old behavior, use either `df[df.columns[i]] = newvals` or, if columns are non-unique, `df.isetitem(i, newvals)`\n",
      "  new_data[c].loc[:, s] = col_data\n",
      "c:\\Users\\joaop\\Anaconda3\\envs\\vbt\\lib\\site-packages\\vectorbt\\data\\base.py:692: FutureWarning: In a future version, `df.iloc[:, i] = newvals` will attempt to set the values inplace instead of always setting a new array. To retain the old behavior, use either `df[df.columns[i]] = newvals` or, if columns are non-unique, `df.isetitem(i, newvals)`\n",
      "  new_data[c].loc[:, s] = col_data\n",
      "c:\\Users\\joaop\\Anaconda3\\envs\\vbt\\lib\\site-packages\\vectorbt\\data\\base.py:692: FutureWarning: In a future version, `df.iloc[:, i] = newvals` will attempt to set the values inplace instead of always setting a new array. To retain the old behavior, use either `df[df.columns[i]] = newvals` or, if columns are non-unique, `df.isetitem(i, newvals)`\n",
      "  new_data[c].loc[:, s] = col_data\n",
      "c:\\Users\\joaop\\Anaconda3\\envs\\vbt\\lib\\site-packages\\vectorbt\\data\\base.py:692: FutureWarning: In a future version, `df.iloc[:, i] = newvals` will attempt to set the values inplace instead of always setting a new array. To retain the old behavior, use either `df[df.columns[i]] = newvals` or, if columns are non-unique, `df.isetitem(i, newvals)`\n",
      "  new_data[c].loc[:, s] = col_data\n"
     ]
    }
   ],
   "source": [
    "b3_petroleum = vbt.YFData.download(\n",
    "    list_stock_enterprises,\n",
    "    missing_index=\"drop\",\n",
    "    interval = \"1d\",\n",
    "    start = start_time,\n",
    "    end = end_time\n",
    ")\n",
    "\n",
    "stock_prices = b3_petroleum.get(\"Close\")"
   ]
  },
  {
   "cell_type": "code",
   "execution_count": 8,
   "metadata": {},
   "outputs": [],
   "source": [
    "rsi = vbt.RSI.run(stock_prices, window = 21)\n",
    "\n",
    "entries = rsi.rsi_crossed_below(30)\n",
    "\n",
    "exits = rsi.rsi_crossed_above(70)\n",
    "\n",
    "pf = vbt.Portfolio.from_signals(stock_prices, entries, exits)"
   ]
  },
  {
   "cell_type": "code",
   "execution_count": 14,
   "metadata": {},
   "outputs": [
    {
     "data": {
      "text/plain": [
       "169.93683911446948"
      ]
     },
     "execution_count": 14,
     "metadata": {},
     "output_type": "execute_result"
    }
   ],
   "source": [
    "pf.total_profit().sum()"
   ]
  }
 ],
 "metadata": {
  "kernelspec": {
   "display_name": "Python 3.9.13 ('vbt')",
   "language": "python",
   "name": "python3"
  },
  "language_info": {
   "codemirror_mode": {
    "name": "ipython",
    "version": 3
   },
   "file_extension": ".py",
   "mimetype": "text/x-python",
   "name": "python",
   "nbconvert_exporter": "python",
   "pygments_lexer": "ipython3",
   "version": "3.9.13"
  },
  "orig_nbformat": 4,
  "vscode": {
   "interpreter": {
    "hash": "4a9505bf419d12115e09a26a0e281261842f2194705a6c2dfb1d8047ed20c79d"
   }
  }
 },
 "nbformat": 4,
 "nbformat_minor": 2
}
